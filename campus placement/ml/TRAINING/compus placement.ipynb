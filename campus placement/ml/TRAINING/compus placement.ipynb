{
 "cells": [
  {
   "cell_type": "code",
   "execution_count": null,
   "metadata": {},
   "outputs": [],
   "source": [
    "import numpy as np \n",
    "import pandas as pd \n",
    "import os\n",
    "import seaborn as sns\n",
    "import matplotlib.pyplot as plt\n",
    "import plotly.express as px\n",
    "import plotly.graph_objects as go\n",
    "from plotly.subplots import make_subplots\n",
    "from sklearn import preprocessing\n",
    "from sklearn.model_selection import train_test_split\n",
    "from sklearn.linear_model import LogisticRegression\n",
    "from sklearn.ensemble import RandomForestClassifier\n",
    "from xgboost import XGBClassifier\n",
    "from sklearn.metrics import accuracy_score\n",
    "import plotly.express as px"
   ]
  },
  {
   "cell_type": "code",
   "execution_count": null,
   "metadata": {},
   "outputs": [],
   "source": [
    "df.shape"
   ]
  },
  {
   "cell_type": "code",
   "execution_count": 2,
   "metadata": {},
   "outputs": [
    {
     "ename": "NameError",
     "evalue": "name 'df' is not defined",
     "output_type": "error",
     "traceback": [
      "\u001b[1;31m---------------------------------------------------------------------------\u001b[0m",
      "\u001b[1;31mNameError\u001b[0m                                 Traceback (most recent call last)",
      "Cell \u001b[1;32mIn[2], line 1\u001b[0m\n\u001b[1;32m----> 1\u001b[0m df\u001b[39m.\u001b[39minfo()\n",
      "\u001b[1;31mNameError\u001b[0m: name 'df' is not defined"
     ]
    }
   ],
   "source": [
    "df.info()"
   ]
  },
  {
   "cell_type": "code",
   "execution_count": 3,
   "metadata": {},
   "outputs": [
    {
     "ename": "NameError",
     "evalue": "name 'df' is not defined",
     "output_type": "error",
     "traceback": [
      "\u001b[1;31m---------------------------------------------------------------------------\u001b[0m",
      "\u001b[1;31mNameError\u001b[0m                                 Traceback (most recent call last)",
      "Cell \u001b[1;32mIn[3], line 1\u001b[0m\n\u001b[1;32m----> 1\u001b[0m df\u001b[39m.\u001b[39misnull()\u001b[39m.\u001b[39msum()\n",
      "\u001b[1;31mNameError\u001b[0m: name 'df' is not defined"
     ]
    }
   ],
   "source": [
    "df.isnull().sum()"
   ]
  },
  {
   "cell_type": "code",
   "execution_count": null,
   "metadata": {},
   "outputs": [],
   "source": [
    "df['Stream'].value_counts()"
   ]
  },
  {
   "cell_type": "code",
   "execution_count": 4,
   "metadata": {},
   "outputs": [
    {
     "ename": "NameError",
     "evalue": "name 'df' is not defined",
     "output_type": "error",
     "traceback": [
      "\u001b[1;31m---------------------------------------------------------------------------\u001b[0m",
      "\u001b[1;31mNameError\u001b[0m                                 Traceback (most recent call last)",
      "Cell \u001b[1;32mIn[4], line 1\u001b[0m\n\u001b[1;32m----> 1\u001b[0m df[\u001b[39m\"\u001b[39m\u001b[39mStream\u001b[39m\u001b[39m\"\u001b[39m] \u001b[39m=\u001b[39m df[\u001b[39m\"\u001b[39m\u001b[39mStream\u001b[39m\u001b[39m\"\u001b[39m]\u001b[39m.\u001b[39mmap(mapping)\n",
      "\u001b[1;31mNameError\u001b[0m: name 'df' is not defined"
     ]
    }
   ],
   "source": [
    "df[\"Stream\"] = df[\"Stream\"].map(mapping)"
   ]
  },
  {
   "cell_type": "code",
   "execution_count": null,
   "metadata": {},
   "outputs": [],
   "source": [
    "df[\"Stream\"] = df[\"Stream\"].map(mapping)"
   ]
  },
  {
   "cell_type": "code",
   "execution_count": null,
   "metadata": {},
   "outputs": [],
   "source": [
    "df.describe()"
   ]
  },
  {
   "cell_type": "code",
   "execution_count": null,
   "metadata": {},
   "outputs": [],
   "source": [
    "# I tried all the columns and find out that only age column has some outliers."
   ]
  },
  {
   "cell_type": "code",
   "execution_count": null,
   "metadata": {},
   "outputs": [],
   "source": [
    "max_thresold = df['Age'].quantile(0.95)\n",
    "print(max_thresold)\n",
    "\n",
    "min_thresold = df['Age'].quantile(0.01)\n",
    "print(min_thresold)\n",
    "\n",
    "df = df[(df['Age']<max_thresold) & (df['Age']>min_thresold)]\n",
    "24.0\n",
    "19.0"
   ]
  },
  {
   "cell_type": "code",
   "execution_count": null,
   "metadata": {},
   "outputs": [],
   "source": [
    "plt.figure(figsize = (10, 6), dpi = 100)\n",
    "\n",
    "\n",
    "color_palette = sns.color_palette(\"Accent_r\")\n",
    "sns.set_palette(color_palette)\n",
    "\n",
    "sns.countplot(x = \"Stream\", data = df)"
   ]
  },
  {
   "cell_type": "code",
   "execution_count": null,
   "metadata": {},
   "outputs": [],
   "source": [
    "plt.figure(figsize = (10, 6), dpi = 100)\n",
    "\n",
    "\n",
    "color_palette = sns.color_palette(\"cool\")\n",
    "sns.set_palette(color_palette)\n",
    "\n",
    "sns.countplot(x = \"Internships\", data = df)\n",
    "plt.show()"
   ]
  },
  {
   "cell_type": "code",
   "execution_count": null,
   "metadata": {},
   "outputs": [],
   "source": [
    "plt.figure(figsize = (10, 6), dpi = 100)\n",
    "grp = dict(df.groupby('CGPA').groups)\n",
    "\n",
    "m = {}\n",
    "\n",
    "for key, val in grp.items():\n",
    "    \n",
    "    if key in m:\n",
    "        m[key] += len(val)\n",
    "        \n",
    "    else:\n",
    "        m[key] = len(val)\n",
    "\n",
    "    \n",
    "plt.title(\"Distribution of CGPA\")\n",
    "plt.pie(m.values(), labels = m.keys())\n",
    "plt.show()\n"
   ]
  },
  {
   "cell_type": "code",
   "execution_count": null,
   "metadata": {},
   "outputs": [],
   "source": [
    "plt.figure(figsize = (10, 6), dpi = 100)\n",
    "\n",
    "\n",
    "# setting the different color palette\n",
    "color_palette = sns.color_palette(\"Accent_r\")\n",
    "sns.set_palette(color_palette)\n",
    "\n",
    "sns.countplot(x = \"Gender\", data = df)\n",
    "\n",
    "plt.show()"
   ]
  },
  {
   "cell_type": "code",
   "execution_count": null,
   "metadata": {},
   "outputs": [],
   "source": [
    "plt.figure(figsize = (10, 6), dpi = 100)\n",
    "\n",
    "\n",
    "# setting the different color palette\n",
    "color_palette = sns.color_palette(\"plasma\")\n",
    "sns.set_palette(color_palette)\n",
    "\n",
    "sns.barplot(x = \"PlacedOrNot\", y = \"Gender\", data = df)\n",
    "\n",
    "plt.show()\n"
   ]
  },
  {
   "cell_type": "code",
   "execution_count": null,
   "metadata": {},
   "outputs": [],
   "source": [
    "plt.figure(figsize = (10, 6), dpi = 100)\n",
    "\n",
    "\n",
    "# setting the different color palette\n",
    "color_palette = sns.color_palette(\"magma\")\n",
    "sns.set_palette(color_palette)\n",
    "\n",
    "sns.barplot(x = \"Stream\", y = \"PlacedOrNot\", data = df)\n",
    "\n",
    "plt.show()"
   ]
  },
  {
   "cell_type": "code",
   "execution_count": null,
   "metadata": {},
   "outputs": [],
   "source": [
    "plt.figure(figsize = (10, 6), dpi = 100)\n",
    "color_palette = sns.color_palette(\"BuGn_r\")\n",
    "sns.set_palette(color_palette)\n",
    "\n",
    "sns.countplot(x = \"PlacedOrNot\", data = df)\n",
    "\n",
    "plt.show()"
   ]
  },
  {
   "cell_type": "code",
   "execution_count": null,
   "metadata": {},
   "outputs": [],
   "source": [
    "plt.figure(figsize = (10, 6), dpi = 100)\n",
    "color = sns.color_palette(\"BuGn_r\")\n",
    "sns.heatmap(df.corr(), vmax=0.9, annot=True,cmap = color)"
   ]
  },
  {
   "cell_type": "code",
   "execution_count": null,
   "metadata": {},
   "outputs": [],
   "source": [
    "le = preprocessing.LabelEncoder()\n",
    "\n",
    "df[\"Gender\"] = le.fit_transform(df[\"Gender\"])\n",
    "df[\"Stream\"] = le.fit_transform(df[\"Stream\"])"
   ]
  },
  {
   "cell_type": "code",
   "execution_count": null,
   "metadata": {},
   "outputs": [],
   "source": [
    "X=df[['Age', 'Gender', 'Internships', 'CGPA', 'Hostel',\n",
    "       'HistoryOfBacklogs', 'Stream']]\n",
    "y= df[\"PlacedOrNot\"]\n",
    "\n",
    "x_train, x_test, y_train, y_test = train_test_split(X,y, test_size=0.30, random_state=100)\n",
    "\n",
    "clff = RandomForestClassifier().fit(x_train,y_train)\n",
    "\n",
    "pred = clff.predict(x_test)"
   ]
  },
  {
   "cell_type": "code",
   "execution_count": null,
   "metadata": {},
   "outputs": [],
   "source": [
    "acc = accuracy_score(y_test, pred)\n",
    "acc"
   ]
  },
  {
   "cell_type": "code",
   "execution_count": null,
   "metadata": {},
   "outputs": [],
   "source": [
    "from catboost import CatBoostClassifier\n",
    "\n",
    "X = df[['Age', 'Gender', 'Internships', 'CGPA', 'Hostel',\n",
    "       'HistoryOfBacklogs', 'Stream']]\n",
    "\n",
    "y = df[\"PlacedOrNot\"]\n",
    "\n",
    "x_train, x_test, y_train, y_test = train_test_split(X,y, test_size=0.30, random_state=100)\n",
    "\n",
    "clf = CatBoostClassifier(\n",
    "    \n",
    "    iterations = 5, \n",
    "    learning_rate = 0.1, \n",
    "    loss_function='CrossEntropy',\n",
    "    \n",
    ").fit(x_train, y_train)\n",
    "\n",
    "\n",
    "pred = clf.predict(x_test)"
   ]
  },
  {
   "cell_type": "code",
   "execution_count": null,
   "metadata": {},
   "outputs": [],
   "source": [
    "acc = accuracy_score(y_test, pred)\n",
    "acc"
   ]
  }
 ],
 "metadata": {
  "kernelspec": {
   "display_name": "Python 3",
   "language": "python",
   "name": "python3"
  },
  "language_info": {
   "codemirror_mode": {
    "name": "ipython",
    "version": 3
   },
   "file_extension": ".py",
   "mimetype": "text/x-python",
   "name": "python",
   "nbconvert_exporter": "python",
   "pygments_lexer": "ipython3",
   "version": "3.11.3"
  },
  "orig_nbformat": 4
 },
 "nbformat": 4,
 "nbformat_minor": 2
}
